{
  "nbformat": 4,
  "nbformat_minor": 0,
  "metadata": {
    "colab": {
      "name": "DataScienceHW3.ipynb",
      "provenance": [],
      "authorship_tag": "ABX9TyM2FI6d9TD56vVoIcNJ/fwX",
      "include_colab_link": true
    },
    "kernelspec": {
      "name": "python3",
      "display_name": "Python 3"
    }
  },
  "cells": [
    {
      "cell_type": "markdown",
      "metadata": {
        "id": "view-in-github",
        "colab_type": "text"
      },
      "source": [
        "<a href=\"https://colab.research.google.com/github/lgelbman/DataScienceHW3/blob/main/DataScienceHW3.ipynb\" target=\"_parent\"><img src=\"https://colab.research.google.com/assets/colab-badge.svg\" alt=\"Open In Colab\"/></a>"
      ]
    },
    {
      "cell_type": "code",
      "metadata": {
        "id": "GwZFIOrIWSEQ"
      },
      "source": [
        "import pandas as pd\n",
        "import numpy as np"
      ],
      "execution_count": 2,
      "outputs": []
    },
    {
      "cell_type": "markdown",
      "metadata": {
        "id": "AQ845_f_PUox"
      },
      "source": [
        "1. Import the car data to github\n",
        "2. Import it into a pandas dataframe"
      ]
    },
    {
      "cell_type": "code",
      "metadata": {
        "id": "_uI_QZ7dWaue"
      },
      "source": [
        "url_of_csv_file = \"https://raw.githubusercontent.com/lgelbman/DataScienceHW3/main/Blank_Car_Info.csv\"\n",
        "data = pd.read_csv(url_of_csv_file)"
      ],
      "execution_count": 3,
      "outputs": []
    },
    {
      "cell_type": "markdown",
      "metadata": {
        "id": "JlxSM8rXPbTe"
      },
      "source": [
        "3. Assign the column names as [numDoors, numCylinders, mpgHighway, mpgStreets, currentMileage, avgMileagePerTuneUp, qualityRating]"
      ]
    },
    {
      "cell_type": "code",
      "metadata": {
        "id": "ykiBl3t5YJ6j"
      },
      "source": [
        "data.columns = [\"numDoors\", \"numCylinders\", \"mpgHighway\", \"mpgStreets\", \"currentMileage\", \"avgMileagePerTuneUp\", \"qualityRating\"]"
      ],
      "execution_count": 4,
      "outputs": []
    },
    {
      "cell_type": "markdown",
      "metadata": {
        "id": "8gKMfEjMPkB0"
      },
      "source": [
        "4. Check for null values"
      ]
    },
    {
      "cell_type": "code",
      "metadata": {
        "id": "-nejdrqLYfRN",
        "colab": {
          "base_uri": "https://localhost:8080/"
        },
        "outputId": "c73c9eee-42ed-4f77-f4cd-ef20f981e2cc"
      },
      "source": [
        "data.isnull().sum()"
      ],
      "execution_count": 18,
      "outputs": [
        {
          "output_type": "execute_result",
          "data": {
            "text/plain": [
              "numDoors               0\n",
              "numCylinders           0\n",
              "mpgHighway             0\n",
              "mpgStreets             0\n",
              "currentMileage         0\n",
              "avgMileagePerTuneUp    0\n",
              "qualityRating          0\n",
              "dtype: int64"
            ]
          },
          "metadata": {
            "tags": []
          },
          "execution_count": 18
        }
      ]
    },
    {
      "cell_type": "code",
      "metadata": {
        "colab": {
          "base_uri": "https://localhost:8080/",
          "height": 419
        },
        "id": "o_BlD3rm8PvZ",
        "outputId": "0db065f7-0f04-4a1c-ab0d-337c95564f2a"
      },
      "source": [
        "data.isnull()"
      ],
      "execution_count": 19,
      "outputs": [
        {
          "output_type": "execute_result",
          "data": {
            "text/html": [
              "<div>\n",
              "<style scoped>\n",
              "    .dataframe tbody tr th:only-of-type {\n",
              "        vertical-align: middle;\n",
              "    }\n",
              "\n",
              "    .dataframe tbody tr th {\n",
              "        vertical-align: top;\n",
              "    }\n",
              "\n",
              "    .dataframe thead th {\n",
              "        text-align: right;\n",
              "    }\n",
              "</style>\n",
              "<table border=\"1\" class=\"dataframe\">\n",
              "  <thead>\n",
              "    <tr style=\"text-align: right;\">\n",
              "      <th></th>\n",
              "      <th>numDoors</th>\n",
              "      <th>numCylinders</th>\n",
              "      <th>mpgHighway</th>\n",
              "      <th>mpgStreets</th>\n",
              "      <th>currentMileage</th>\n",
              "      <th>avgMileagePerTuneUp</th>\n",
              "      <th>qualityRating</th>\n",
              "    </tr>\n",
              "  </thead>\n",
              "  <tbody>\n",
              "    <tr>\n",
              "      <th>0</th>\n",
              "      <td>False</td>\n",
              "      <td>False</td>\n",
              "      <td>False</td>\n",
              "      <td>False</td>\n",
              "      <td>False</td>\n",
              "      <td>False</td>\n",
              "      <td>False</td>\n",
              "    </tr>\n",
              "    <tr>\n",
              "      <th>1</th>\n",
              "      <td>False</td>\n",
              "      <td>False</td>\n",
              "      <td>False</td>\n",
              "      <td>False</td>\n",
              "      <td>False</td>\n",
              "      <td>False</td>\n",
              "      <td>False</td>\n",
              "    </tr>\n",
              "    <tr>\n",
              "      <th>2</th>\n",
              "      <td>False</td>\n",
              "      <td>False</td>\n",
              "      <td>False</td>\n",
              "      <td>False</td>\n",
              "      <td>False</td>\n",
              "      <td>False</td>\n",
              "      <td>False</td>\n",
              "    </tr>\n",
              "    <tr>\n",
              "      <th>3</th>\n",
              "      <td>False</td>\n",
              "      <td>False</td>\n",
              "      <td>False</td>\n",
              "      <td>False</td>\n",
              "      <td>False</td>\n",
              "      <td>False</td>\n",
              "      <td>False</td>\n",
              "    </tr>\n",
              "    <tr>\n",
              "      <th>4</th>\n",
              "      <td>False</td>\n",
              "      <td>False</td>\n",
              "      <td>False</td>\n",
              "      <td>False</td>\n",
              "      <td>False</td>\n",
              "      <td>False</td>\n",
              "      <td>False</td>\n",
              "    </tr>\n",
              "    <tr>\n",
              "      <th>...</th>\n",
              "      <td>...</td>\n",
              "      <td>...</td>\n",
              "      <td>...</td>\n",
              "      <td>...</td>\n",
              "      <td>...</td>\n",
              "      <td>...</td>\n",
              "      <td>...</td>\n",
              "    </tr>\n",
              "    <tr>\n",
              "      <th>1074</th>\n",
              "      <td>False</td>\n",
              "      <td>False</td>\n",
              "      <td>False</td>\n",
              "      <td>False</td>\n",
              "      <td>False</td>\n",
              "      <td>False</td>\n",
              "      <td>False</td>\n",
              "    </tr>\n",
              "    <tr>\n",
              "      <th>1075</th>\n",
              "      <td>False</td>\n",
              "      <td>False</td>\n",
              "      <td>False</td>\n",
              "      <td>False</td>\n",
              "      <td>False</td>\n",
              "      <td>False</td>\n",
              "      <td>False</td>\n",
              "    </tr>\n",
              "    <tr>\n",
              "      <th>1076</th>\n",
              "      <td>False</td>\n",
              "      <td>False</td>\n",
              "      <td>False</td>\n",
              "      <td>False</td>\n",
              "      <td>False</td>\n",
              "      <td>False</td>\n",
              "      <td>False</td>\n",
              "    </tr>\n",
              "    <tr>\n",
              "      <th>1077</th>\n",
              "      <td>False</td>\n",
              "      <td>False</td>\n",
              "      <td>False</td>\n",
              "      <td>False</td>\n",
              "      <td>False</td>\n",
              "      <td>False</td>\n",
              "      <td>False</td>\n",
              "    </tr>\n",
              "    <tr>\n",
              "      <th>1078</th>\n",
              "      <td>False</td>\n",
              "      <td>False</td>\n",
              "      <td>False</td>\n",
              "      <td>False</td>\n",
              "      <td>False</td>\n",
              "      <td>False</td>\n",
              "      <td>False</td>\n",
              "    </tr>\n",
              "  </tbody>\n",
              "</table>\n",
              "<p>1079 rows × 7 columns</p>\n",
              "</div>"
            ],
            "text/plain": [
              "      numDoors  numCylinders  ...  avgMileagePerTuneUp  qualityRating\n",
              "0        False         False  ...                False          False\n",
              "1        False         False  ...                False          False\n",
              "2        False         False  ...                False          False\n",
              "3        False         False  ...                False          False\n",
              "4        False         False  ...                False          False\n",
              "...        ...           ...  ...                  ...            ...\n",
              "1074     False         False  ...                False          False\n",
              "1075     False         False  ...                False          False\n",
              "1076     False         False  ...                False          False\n",
              "1077     False         False  ...                False          False\n",
              "1078     False         False  ...                False          False\n",
              "\n",
              "[1079 rows x 7 columns]"
            ]
          },
          "metadata": {
            "tags": []
          },
          "execution_count": 19
        }
      ]
    },
    {
      "cell_type": "markdown",
      "metadata": {
        "id": "hsDEWmIvKcNd"
      },
      "source": [
        "Modified from:\n",
        "https://colab.research.google.com/drive/1fa9GQcFdit2XgcAG1Itiz2ykSI-rxh05#scrollTo=TCaYZr1dgnky\n",
        "\n",
        "5. Use the drive colab notebook \"_2 Practice Problems, Regex, Simple ML Examples.ipynb\" to run a kmeans clustering and find the centers if the data were divided into 4 categories."
      ]
    },
    {
      "cell_type": "code",
      "metadata": {
        "id": "y8_cBrMgZUa3",
        "colab": {
          "base_uri": "https://localhost:8080/"
        },
        "outputId": "26258838-6838-4f34-d50c-e2e894942350"
      },
      "source": [
        "from sklearn.cluster import KMeans\n",
        "\n",
        "df_as_array = data.to_numpy()\n",
        "\n",
        "kmeans = KMeans(n_clusters=4).fit(df_as_array)\n",
        "centers_of_cluseters = kmeans.cluster_centers_\n",
        "\n",
        "for i in centers_of_cluseters:\n",
        "  print(i)\n"
      ],
      "execution_count": 6,
      "outputs": [
        {
          "output_type": "stream",
          "text": [
            "[  2.35379061   2.37184116  26.87725632  25.8032491  252.17689531\n",
            " 245.37364621   0.50642109]\n",
            "[2.34146341e+00 2.47560976e+00 2.70731707e+01 2.67682927e+01\n",
            " 8.75695122e+02 8.72621951e+02 5.06455425e-01]\n",
            "[2.26406926e+00 2.49783550e+00 2.61904762e+01 2.51515152e+01\n",
            " 8.54476190e+02 2.33956710e+02 4.89550879e-01]\n",
            "[2.41981132e+00 2.42924528e+00 2.62971698e+01 2.72169811e+01\n",
            " 2.48825472e+02 8.66966981e+02 5.46785990e-01]\n"
          ],
          "name": "stdout"
        }
      ]
    },
    {
      "cell_type": "markdown",
      "metadata": {
        "id": "rppyNkgrPyFH"
      },
      "source": [
        "6. We are given a new car with stats [2, 4, 500, 300, 150, 760, .6] find which cluster it belongs to"
      ]
    },
    {
      "cell_type": "code",
      "metadata": {
        "colab": {
          "base_uri": "https://localhost:8080/"
        },
        "id": "llLE3DqgK4A8",
        "outputId": "602bcf70-d6a1-4103-ce2d-204e84c64653"
      },
      "source": [
        "\n",
        "new_car_data = (np.array([2, 4, 500, 300, 150, 760, .6])).reshape(1, -1)\n",
        "prediction = kmeans.predict(new_car_data)\n",
        "print(prediction)"
      ],
      "execution_count": 7,
      "outputs": [
        {
          "output_type": "stream",
          "text": [
            "[3]\n"
          ],
          "name": "stdout"
        }
      ]
    },
    {
      "cell_type": "markdown",
      "metadata": {
        "id": "qynEm9XEP4mV"
      },
      "source": [
        "7. We are given a new car with stats [2, 3, 100, 900, 500, 45] with the qualityRating unknown.  Use SVM to find it's quality rating.  I suggest that you find a way to \"bin\" the quality ratings so that you have only a couple of categories instead of what is given, and only then do the SVM.\n"
      ]
    },
    {
      "cell_type": "code",
      "metadata": {
        "colab": {
          "base_uri": "https://localhost:8080/"
        },
        "id": "n-3ndRWz740B",
        "outputId": "3fc3d235-4e68-4c55-a6f4-c8193bfa41ab"
      },
      "source": [
        "from sklearn import svm\n",
        "\n",
        "new_car_data2 = (np.array([2, 3, 100, 900, 500, 45])).reshape(1,-1)\n",
        "\n",
        "bins = [i / 10 for i in range(11)]\n",
        "labels = [\"{}\".format(i / 10) for i in range(10)]\n",
        "\n",
        "X = df_as_array[:,0:6]\n",
        "Y = np.array(pd.cut(data[\"qualityRating\"], bins, labels=labels))\n",
        "\n",
        "svm = svm.SVC().fit(X, Y)\n",
        "\n",
        "print(new_car_data2)\n",
        "print(X.shape)\n",
        "print(Y.shape)\n",
        "\n",
        "prediction = svm.predict(new_car_data2)\n",
        "print(prediction[0])\n"
      ],
      "execution_count": 43,
      "outputs": [
        {
          "output_type": "stream",
          "text": [
            "[[  2   3 100 900 500  45]]\n",
            "(1079, 6)\n",
            "(1079,)\n",
            "0.8\n"
          ],
          "name": "stdout"
        }
      ]
    }
  ]
}